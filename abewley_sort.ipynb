{
  "nbformat": 4,
  "nbformat_minor": 0,
  "metadata": {
    "colab": {
      "name": "abewley / sort.ipynb",
      "provenance": [],
      "authorship_tag": "ABX9TyPHYk9y67uhoF3J6c0I3dzd",
      "include_colab_link": true
    },
    "kernelspec": {
      "name": "python3",
      "display_name": "Python 3"
    },
    "language_info": {
      "name": "python"
    }
  },
  "cells": [
    {
      "cell_type": "markdown",
      "metadata": {
        "id": "view-in-github",
        "colab_type": "text"
      },
      "source": [
        "<a href=\"https://colab.research.google.com/github/abq2904/Basic_Tracking/blob/main/abewley_sort.ipynb\" target=\"_parent\"><img src=\"https://colab.research.google.com/assets/colab-badge.svg\" alt=\"Open In Colab\"/></a>"
      ]
    },
    {
      "cell_type": "code",
      "source": [
        "################################################################################\n",
        "# Mounting Google Drive to access large datasets\n",
        "################################################################################\n",
        "# from google.colab import drive\n",
        "# drive.mount('/content/drive')"
      ],
      "metadata": {
        "id": "CrmgYKMCXJBL"
      },
      "execution_count": null,
      "outputs": []
    },
    {
      "cell_type": "code",
      "execution_count": 8,
      "metadata": {
        "id": "wWjRzHyvO0Yn",
        "colab": {
          "base_uri": "https://localhost:8080/"
        },
        "outputId": "22e1987d-e74b-44a7-8989-d9eb56357438"
      },
      "outputs": [
        {
          "output_type": "stream",
          "name": "stdout",
          "text": [
            "Cloning into 'kalman-filter-in-single-object-tracking'...\n",
            "remote: Enumerating objects: 61, done.\u001b[K\n",
            "remote: Counting objects: 100% (61/61), done.\u001b[K\n",
            "remote: Compressing objects: 100% (53/53), done.\u001b[K\n",
            "remote: Total 61 (delta 25), reused 0 (delta 0), pack-reused 0\u001b[K\n",
            "Unpacking objects: 100% (61/61), done.\n"
          ]
        }
      ],
      "source": [
        "################################################################################\n",
        "# Cloning the Efficient Pose Github Repository\n",
        "################################################################################\n",
        "! git clone https://github.com/liuchangji/kalman-filter-in-single-object-tracking.git"
      ]
    },
    {
      "cell_type": "code",
      "source": [
        "################################################################################\n",
        "# Entering the cloned directory\n",
        "################################################################################\n",
        "% cd /content/kalman-filter-in-single-object-tracking"
      ],
      "metadata": {
        "id": "rQ_0F46qQTBu",
        "colab": {
          "base_uri": "https://localhost:8080/"
        },
        "outputId": "51421cf4-3142-45d5-916f-75aa631971aa"
      },
      "execution_count": 9,
      "outputs": [
        {
          "output_type": "stream",
          "name": "stdout",
          "text": [
            "/content/kalman-filter-in-single-object-tracking\n"
          ]
        }
      ]
    },
    {
      "cell_type": "code",
      "source": [
        "################################################################################\n",
        "# Checking directory\n",
        "################################################################################\n",
        "% pwd"
      ],
      "metadata": {
        "colab": {
          "base_uri": "https://localhost:8080/",
          "height": 35
        },
        "id": "3228l1llEWB6",
        "outputId": "a3aaca48-4a9f-484a-f119-e6c2e265dc9a"
      },
      "execution_count": 4,
      "outputs": [
        {
          "output_type": "execute_result",
          "data": {
            "application/vnd.google.colaboratory.intrinsic+json": {
              "type": "string"
            },
            "text/plain": [
              "'/content/sort'"
            ]
          },
          "metadata": {},
          "execution_count": 4
        }
      ]
    },
    {
      "cell_type": "code",
      "source": [
        "!unzip \"/content/kalman-filter-in-single-object-tracking/data/labels.zip\" -d \"/content/kalman-filter-in-single-object-tracking/data\""
      ],
      "metadata": {
        "colab": {
          "base_uri": "https://localhost:8080/"
        },
        "id": "jSb8fxU4hYyo",
        "outputId": "97ad82a3-3e0f-4d98-a1a0-641812f9fef1"
      },
      "execution_count": 16,
      "outputs": [
        {
          "output_type": "stream",
          "name": "stdout",
          "text": [
            "Archive:  /content/kalman-filter-in-single-object-tracking/data/labels.zip\n",
            "  inflating: /content/kalman-filter-in-single-object-tracking/data/labels/testvideo1_1.txt  \n",
            "  inflating: /content/kalman-filter-in-single-object-tracking/data/labels/testvideo1_10.txt  \n",
            "  inflating: /content/kalman-filter-in-single-object-tracking/data/labels/testvideo1_100.txt  \n",
            "  inflating: /content/kalman-filter-in-single-object-tracking/data/labels/testvideo1_101.txt  \n",
            "  inflating: /content/kalman-filter-in-single-object-tracking/data/labels/testvideo1_102.txt  \n",
            "  inflating: /content/kalman-filter-in-single-object-tracking/data/labels/testvideo1_103.txt  \n",
            "  inflating: /content/kalman-filter-in-single-object-tracking/data/labels/testvideo1_104.txt  \n",
            "  inflating: /content/kalman-filter-in-single-object-tracking/data/labels/testvideo1_105.txt  \n",
            "  inflating: /content/kalman-filter-in-single-object-tracking/data/labels/testvideo1_106.txt  \n",
            "  inflating: /content/kalman-filter-in-single-object-tracking/data/labels/testvideo1_107.txt  \n",
            "  inflating: /content/kalman-filter-in-single-object-tracking/data/labels/testvideo1_108.txt  \n",
            "  inflating: /content/kalman-filter-in-single-object-tracking/data/labels/testvideo1_109.txt  \n",
            "  inflating: /content/kalman-filter-in-single-object-tracking/data/labels/testvideo1_11.txt  \n",
            "  inflating: /content/kalman-filter-in-single-object-tracking/data/labels/testvideo1_110.txt  \n",
            "  inflating: /content/kalman-filter-in-single-object-tracking/data/labels/testvideo1_111.txt  \n",
            "  inflating: /content/kalman-filter-in-single-object-tracking/data/labels/testvideo1_112.txt  \n",
            "  inflating: /content/kalman-filter-in-single-object-tracking/data/labels/testvideo1_113.txt  \n",
            "  inflating: /content/kalman-filter-in-single-object-tracking/data/labels/testvideo1_114.txt  \n",
            "  inflating: /content/kalman-filter-in-single-object-tracking/data/labels/testvideo1_115.txt  \n",
            "  inflating: /content/kalman-filter-in-single-object-tracking/data/labels/testvideo1_116.txt  \n",
            "  inflating: /content/kalman-filter-in-single-object-tracking/data/labels/testvideo1_117.txt  \n",
            "  inflating: /content/kalman-filter-in-single-object-tracking/data/labels/testvideo1_118.txt  \n",
            "  inflating: /content/kalman-filter-in-single-object-tracking/data/labels/testvideo1_119.txt  \n",
            "  inflating: /content/kalman-filter-in-single-object-tracking/data/labels/testvideo1_12.txt  \n",
            "  inflating: /content/kalman-filter-in-single-object-tracking/data/labels/testvideo1_120.txt  \n",
            "  inflating: /content/kalman-filter-in-single-object-tracking/data/labels/testvideo1_121.txt  \n",
            "  inflating: /content/kalman-filter-in-single-object-tracking/data/labels/testvideo1_122.txt  \n",
            "  inflating: /content/kalman-filter-in-single-object-tracking/data/labels/testvideo1_123.txt  \n",
            "  inflating: /content/kalman-filter-in-single-object-tracking/data/labels/testvideo1_124.txt  \n",
            "  inflating: /content/kalman-filter-in-single-object-tracking/data/labels/testvideo1_125.txt  \n",
            "  inflating: /content/kalman-filter-in-single-object-tracking/data/labels/testvideo1_126.txt  \n",
            "  inflating: /content/kalman-filter-in-single-object-tracking/data/labels/testvideo1_127.txt  \n",
            "  inflating: /content/kalman-filter-in-single-object-tracking/data/labels/testvideo1_128.txt  \n",
            "  inflating: /content/kalman-filter-in-single-object-tracking/data/labels/testvideo1_129.txt  \n",
            "  inflating: /content/kalman-filter-in-single-object-tracking/data/labels/testvideo1_13.txt  \n",
            "  inflating: /content/kalman-filter-in-single-object-tracking/data/labels/testvideo1_130.txt  \n",
            "  inflating: /content/kalman-filter-in-single-object-tracking/data/labels/testvideo1_131.txt  \n",
            "  inflating: /content/kalman-filter-in-single-object-tracking/data/labels/testvideo1_132.txt  \n",
            "  inflating: /content/kalman-filter-in-single-object-tracking/data/labels/testvideo1_133.txt  \n",
            "  inflating: /content/kalman-filter-in-single-object-tracking/data/labels/testvideo1_134.txt  \n",
            "  inflating: /content/kalman-filter-in-single-object-tracking/data/labels/testvideo1_135.txt  \n",
            "  inflating: /content/kalman-filter-in-single-object-tracking/data/labels/testvideo1_136.txt  \n",
            "  inflating: /content/kalman-filter-in-single-object-tracking/data/labels/testvideo1_137.txt  \n",
            "  inflating: /content/kalman-filter-in-single-object-tracking/data/labels/testvideo1_138.txt  \n",
            "  inflating: /content/kalman-filter-in-single-object-tracking/data/labels/testvideo1_139.txt  \n",
            "  inflating: /content/kalman-filter-in-single-object-tracking/data/labels/testvideo1_14.txt  \n",
            "  inflating: /content/kalman-filter-in-single-object-tracking/data/labels/testvideo1_140.txt  \n",
            "  inflating: /content/kalman-filter-in-single-object-tracking/data/labels/testvideo1_141.txt  \n",
            "  inflating: /content/kalman-filter-in-single-object-tracking/data/labels/testvideo1_142.txt  \n",
            "  inflating: /content/kalman-filter-in-single-object-tracking/data/labels/testvideo1_143.txt  \n",
            "  inflating: /content/kalman-filter-in-single-object-tracking/data/labels/testvideo1_144.txt  \n",
            "  inflating: /content/kalman-filter-in-single-object-tracking/data/labels/testvideo1_145.txt  \n",
            "  inflating: /content/kalman-filter-in-single-object-tracking/data/labels/testvideo1_146.txt  \n",
            "  inflating: /content/kalman-filter-in-single-object-tracking/data/labels/testvideo1_147.txt  \n",
            "  inflating: /content/kalman-filter-in-single-object-tracking/data/labels/testvideo1_148.txt  \n",
            "  inflating: /content/kalman-filter-in-single-object-tracking/data/labels/testvideo1_149.txt  \n",
            "  inflating: /content/kalman-filter-in-single-object-tracking/data/labels/testvideo1_15.txt  \n",
            "  inflating: /content/kalman-filter-in-single-object-tracking/data/labels/testvideo1_150.txt  \n",
            "  inflating: /content/kalman-filter-in-single-object-tracking/data/labels/testvideo1_151.txt  \n",
            "  inflating: /content/kalman-filter-in-single-object-tracking/data/labels/testvideo1_152.txt  \n",
            "  inflating: /content/kalman-filter-in-single-object-tracking/data/labels/testvideo1_153.txt  \n",
            "  inflating: /content/kalman-filter-in-single-object-tracking/data/labels/testvideo1_154.txt  \n",
            "  inflating: /content/kalman-filter-in-single-object-tracking/data/labels/testvideo1_155.txt  \n",
            "  inflating: /content/kalman-filter-in-single-object-tracking/data/labels/testvideo1_156.txt  \n",
            "  inflating: /content/kalman-filter-in-single-object-tracking/data/labels/testvideo1_157.txt  \n",
            "  inflating: /content/kalman-filter-in-single-object-tracking/data/labels/testvideo1_158.txt  \n",
            "  inflating: /content/kalman-filter-in-single-object-tracking/data/labels/testvideo1_159.txt  \n",
            "  inflating: /content/kalman-filter-in-single-object-tracking/data/labels/testvideo1_16.txt  \n",
            "  inflating: /content/kalman-filter-in-single-object-tracking/data/labels/testvideo1_160.txt  \n",
            "  inflating: /content/kalman-filter-in-single-object-tracking/data/labels/testvideo1_161.txt  \n",
            "  inflating: /content/kalman-filter-in-single-object-tracking/data/labels/testvideo1_162.txt  \n",
            "  inflating: /content/kalman-filter-in-single-object-tracking/data/labels/testvideo1_163.txt  \n",
            "  inflating: /content/kalman-filter-in-single-object-tracking/data/labels/testvideo1_164.txt  \n",
            "  inflating: /content/kalman-filter-in-single-object-tracking/data/labels/testvideo1_165.txt  \n",
            "  inflating: /content/kalman-filter-in-single-object-tracking/data/labels/testvideo1_166.txt  \n",
            "  inflating: /content/kalman-filter-in-single-object-tracking/data/labels/testvideo1_167.txt  \n",
            "  inflating: /content/kalman-filter-in-single-object-tracking/data/labels/testvideo1_168.txt  \n",
            "  inflating: /content/kalman-filter-in-single-object-tracking/data/labels/testvideo1_169.txt  \n",
            "  inflating: /content/kalman-filter-in-single-object-tracking/data/labels/testvideo1_17.txt  \n",
            "  inflating: /content/kalman-filter-in-single-object-tracking/data/labels/testvideo1_170.txt  \n",
            "  inflating: /content/kalman-filter-in-single-object-tracking/data/labels/testvideo1_171.txt  \n",
            "  inflating: /content/kalman-filter-in-single-object-tracking/data/labels/testvideo1_172.txt  \n",
            "  inflating: /content/kalman-filter-in-single-object-tracking/data/labels/testvideo1_173.txt  \n",
            "  inflating: /content/kalman-filter-in-single-object-tracking/data/labels/testvideo1_174.txt  \n",
            "  inflating: /content/kalman-filter-in-single-object-tracking/data/labels/testvideo1_175.txt  \n",
            "  inflating: /content/kalman-filter-in-single-object-tracking/data/labels/testvideo1_176.txt  \n",
            "  inflating: /content/kalman-filter-in-single-object-tracking/data/labels/testvideo1_177.txt  \n",
            "  inflating: /content/kalman-filter-in-single-object-tracking/data/labels/testvideo1_178.txt  \n",
            "  inflating: /content/kalman-filter-in-single-object-tracking/data/labels/testvideo1_179.txt  \n",
            "  inflating: /content/kalman-filter-in-single-object-tracking/data/labels/testvideo1_18.txt  \n",
            "  inflating: /content/kalman-filter-in-single-object-tracking/data/labels/testvideo1_180.txt  \n",
            "  inflating: /content/kalman-filter-in-single-object-tracking/data/labels/testvideo1_181.txt  \n",
            "  inflating: /content/kalman-filter-in-single-object-tracking/data/labels/testvideo1_182.txt  \n",
            "  inflating: /content/kalman-filter-in-single-object-tracking/data/labels/testvideo1_183.txt  \n",
            "  inflating: /content/kalman-filter-in-single-object-tracking/data/labels/testvideo1_184.txt  \n",
            "  inflating: /content/kalman-filter-in-single-object-tracking/data/labels/testvideo1_185.txt  \n",
            "  inflating: /content/kalman-filter-in-single-object-tracking/data/labels/testvideo1_186.txt  \n",
            "  inflating: /content/kalman-filter-in-single-object-tracking/data/labels/testvideo1_187.txt  \n",
            "  inflating: /content/kalman-filter-in-single-object-tracking/data/labels/testvideo1_188.txt  \n",
            "  inflating: /content/kalman-filter-in-single-object-tracking/data/labels/testvideo1_189.txt  \n",
            "  inflating: /content/kalman-filter-in-single-object-tracking/data/labels/testvideo1_19.txt  \n",
            "  inflating: /content/kalman-filter-in-single-object-tracking/data/labels/testvideo1_190.txt  \n",
            "  inflating: /content/kalman-filter-in-single-object-tracking/data/labels/testvideo1_191.txt  \n",
            "  inflating: /content/kalman-filter-in-single-object-tracking/data/labels/testvideo1_192.txt  \n",
            "  inflating: /content/kalman-filter-in-single-object-tracking/data/labels/testvideo1_193.txt  \n",
            "  inflating: /content/kalman-filter-in-single-object-tracking/data/labels/testvideo1_194.txt  \n",
            "  inflating: /content/kalman-filter-in-single-object-tracking/data/labels/testvideo1_195.txt  \n",
            "  inflating: /content/kalman-filter-in-single-object-tracking/data/labels/testvideo1_196.txt  \n",
            "  inflating: /content/kalman-filter-in-single-object-tracking/data/labels/testvideo1_197.txt  \n",
            "  inflating: /content/kalman-filter-in-single-object-tracking/data/labels/testvideo1_198.txt  \n",
            "  inflating: /content/kalman-filter-in-single-object-tracking/data/labels/testvideo1_199.txt  \n",
            "  inflating: /content/kalman-filter-in-single-object-tracking/data/labels/testvideo1_2.txt  \n",
            "  inflating: /content/kalman-filter-in-single-object-tracking/data/labels/testvideo1_20.txt  \n",
            "  inflating: /content/kalman-filter-in-single-object-tracking/data/labels/testvideo1_200.txt  \n",
            "  inflating: /content/kalman-filter-in-single-object-tracking/data/labels/testvideo1_201.txt  \n",
            "  inflating: /content/kalman-filter-in-single-object-tracking/data/labels/testvideo1_202.txt  \n",
            "  inflating: /content/kalman-filter-in-single-object-tracking/data/labels/testvideo1_203.txt  \n",
            "  inflating: /content/kalman-filter-in-single-object-tracking/data/labels/testvideo1_204.txt  \n",
            "  inflating: /content/kalman-filter-in-single-object-tracking/data/labels/testvideo1_205.txt  \n",
            "  inflating: /content/kalman-filter-in-single-object-tracking/data/labels/testvideo1_206.txt  \n",
            "  inflating: /content/kalman-filter-in-single-object-tracking/data/labels/testvideo1_21.txt  \n",
            "  inflating: /content/kalman-filter-in-single-object-tracking/data/labels/testvideo1_22.txt  \n",
            "  inflating: /content/kalman-filter-in-single-object-tracking/data/labels/testvideo1_23.txt  \n",
            "  inflating: /content/kalman-filter-in-single-object-tracking/data/labels/testvideo1_24.txt  \n",
            "  inflating: /content/kalman-filter-in-single-object-tracking/data/labels/testvideo1_25.txt  \n",
            "  inflating: /content/kalman-filter-in-single-object-tracking/data/labels/testvideo1_26.txt  \n",
            "  inflating: /content/kalman-filter-in-single-object-tracking/data/labels/testvideo1_27.txt  \n",
            "  inflating: /content/kalman-filter-in-single-object-tracking/data/labels/testvideo1_28.txt  \n",
            "  inflating: /content/kalman-filter-in-single-object-tracking/data/labels/testvideo1_29.txt  \n",
            "  inflating: /content/kalman-filter-in-single-object-tracking/data/labels/testvideo1_3.txt  \n",
            "  inflating: /content/kalman-filter-in-single-object-tracking/data/labels/testvideo1_30.txt  \n",
            "  inflating: /content/kalman-filter-in-single-object-tracking/data/labels/testvideo1_31.txt  \n",
            "  inflating: /content/kalman-filter-in-single-object-tracking/data/labels/testvideo1_32.txt  \n",
            "  inflating: /content/kalman-filter-in-single-object-tracking/data/labels/testvideo1_33.txt  \n",
            "  inflating: /content/kalman-filter-in-single-object-tracking/data/labels/testvideo1_34.txt  \n",
            "  inflating: /content/kalman-filter-in-single-object-tracking/data/labels/testvideo1_35.txt  \n",
            "  inflating: /content/kalman-filter-in-single-object-tracking/data/labels/testvideo1_36.txt  \n",
            "  inflating: /content/kalman-filter-in-single-object-tracking/data/labels/testvideo1_37.txt  \n",
            "  inflating: /content/kalman-filter-in-single-object-tracking/data/labels/testvideo1_38.txt  \n",
            "  inflating: /content/kalman-filter-in-single-object-tracking/data/labels/testvideo1_39.txt  \n",
            "  inflating: /content/kalman-filter-in-single-object-tracking/data/labels/testvideo1_4.txt  \n",
            "  inflating: /content/kalman-filter-in-single-object-tracking/data/labels/testvideo1_40.txt  \n",
            "  inflating: /content/kalman-filter-in-single-object-tracking/data/labels/testvideo1_41.txt  \n",
            "  inflating: /content/kalman-filter-in-single-object-tracking/data/labels/testvideo1_42.txt  \n",
            "  inflating: /content/kalman-filter-in-single-object-tracking/data/labels/testvideo1_43.txt  \n",
            "  inflating: /content/kalman-filter-in-single-object-tracking/data/labels/testvideo1_44.txt  \n",
            "  inflating: /content/kalman-filter-in-single-object-tracking/data/labels/testvideo1_45.txt  \n",
            "  inflating: /content/kalman-filter-in-single-object-tracking/data/labels/testvideo1_46.txt  \n",
            "  inflating: /content/kalman-filter-in-single-object-tracking/data/labels/testvideo1_47.txt  \n",
            "  inflating: /content/kalman-filter-in-single-object-tracking/data/labels/testvideo1_48.txt  \n",
            "  inflating: /content/kalman-filter-in-single-object-tracking/data/labels/testvideo1_49.txt  \n",
            "  inflating: /content/kalman-filter-in-single-object-tracking/data/labels/testvideo1_5.txt  \n",
            "  inflating: /content/kalman-filter-in-single-object-tracking/data/labels/testvideo1_50.txt  \n",
            "  inflating: /content/kalman-filter-in-single-object-tracking/data/labels/testvideo1_51.txt  \n",
            "  inflating: /content/kalman-filter-in-single-object-tracking/data/labels/testvideo1_52.txt  \n",
            "  inflating: /content/kalman-filter-in-single-object-tracking/data/labels/testvideo1_53.txt  \n",
            "  inflating: /content/kalman-filter-in-single-object-tracking/data/labels/testvideo1_54.txt  \n",
            "  inflating: /content/kalman-filter-in-single-object-tracking/data/labels/testvideo1_55.txt  \n",
            "  inflating: /content/kalman-filter-in-single-object-tracking/data/labels/testvideo1_56.txt  \n",
            "  inflating: /content/kalman-filter-in-single-object-tracking/data/labels/testvideo1_57.txt  \n",
            "  inflating: /content/kalman-filter-in-single-object-tracking/data/labels/testvideo1_58.txt  \n",
            "  inflating: /content/kalman-filter-in-single-object-tracking/data/labels/testvideo1_59.txt  \n",
            "  inflating: /content/kalman-filter-in-single-object-tracking/data/labels/testvideo1_6.txt  \n",
            "  inflating: /content/kalman-filter-in-single-object-tracking/data/labels/testvideo1_60.txt  \n",
            "  inflating: /content/kalman-filter-in-single-object-tracking/data/labels/testvideo1_61.txt  \n",
            "  inflating: /content/kalman-filter-in-single-object-tracking/data/labels/testvideo1_62.txt  \n",
            "  inflating: /content/kalman-filter-in-single-object-tracking/data/labels/testvideo1_63.txt  \n",
            "  inflating: /content/kalman-filter-in-single-object-tracking/data/labels/testvideo1_64.txt  \n",
            "  inflating: /content/kalman-filter-in-single-object-tracking/data/labels/testvideo1_65.txt  \n",
            "  inflating: /content/kalman-filter-in-single-object-tracking/data/labels/testvideo1_66.txt  \n",
            "  inflating: /content/kalman-filter-in-single-object-tracking/data/labels/testvideo1_67.txt  \n",
            "  inflating: /content/kalman-filter-in-single-object-tracking/data/labels/testvideo1_68.txt  \n",
            "  inflating: /content/kalman-filter-in-single-object-tracking/data/labels/testvideo1_69.txt  \n",
            "  inflating: /content/kalman-filter-in-single-object-tracking/data/labels/testvideo1_7.txt  \n",
            "  inflating: /content/kalman-filter-in-single-object-tracking/data/labels/testvideo1_70.txt  \n",
            "  inflating: /content/kalman-filter-in-single-object-tracking/data/labels/testvideo1_71.txt  \n",
            "  inflating: /content/kalman-filter-in-single-object-tracking/data/labels/testvideo1_72.txt  \n",
            "  inflating: /content/kalman-filter-in-single-object-tracking/data/labels/testvideo1_73.txt  \n",
            "  inflating: /content/kalman-filter-in-single-object-tracking/data/labels/testvideo1_74.txt  \n",
            "  inflating: /content/kalman-filter-in-single-object-tracking/data/labels/testvideo1_75.txt  \n",
            "  inflating: /content/kalman-filter-in-single-object-tracking/data/labels/testvideo1_76.txt  \n",
            "  inflating: /content/kalman-filter-in-single-object-tracking/data/labels/testvideo1_77.txt  \n",
            "  inflating: /content/kalman-filter-in-single-object-tracking/data/labels/testvideo1_78.txt  \n",
            "  inflating: /content/kalman-filter-in-single-object-tracking/data/labels/testvideo1_79.txt  \n",
            "  inflating: /content/kalman-filter-in-single-object-tracking/data/labels/testvideo1_8.txt  \n",
            "  inflating: /content/kalman-filter-in-single-object-tracking/data/labels/testvideo1_80.txt  \n",
            "  inflating: /content/kalman-filter-in-single-object-tracking/data/labels/testvideo1_81.txt  \n",
            "  inflating: /content/kalman-filter-in-single-object-tracking/data/labels/testvideo1_82.txt  \n",
            "  inflating: /content/kalman-filter-in-single-object-tracking/data/labels/testvideo1_83.txt  \n",
            "  inflating: /content/kalman-filter-in-single-object-tracking/data/labels/testvideo1_84.txt  \n",
            "  inflating: /content/kalman-filter-in-single-object-tracking/data/labels/testvideo1_85.txt  \n",
            "  inflating: /content/kalman-filter-in-single-object-tracking/data/labels/testvideo1_86.txt  \n",
            "  inflating: /content/kalman-filter-in-single-object-tracking/data/labels/testvideo1_87.txt  \n",
            "  inflating: /content/kalman-filter-in-single-object-tracking/data/labels/testvideo1_88.txt  \n",
            "  inflating: /content/kalman-filter-in-single-object-tracking/data/labels/testvideo1_89.txt  \n",
            "  inflating: /content/kalman-filter-in-single-object-tracking/data/labels/testvideo1_9.txt  \n",
            "  inflating: /content/kalman-filter-in-single-object-tracking/data/labels/testvideo1_90.txt  \n",
            "  inflating: /content/kalman-filter-in-single-object-tracking/data/labels/testvideo1_91.txt  \n",
            "  inflating: /content/kalman-filter-in-single-object-tracking/data/labels/testvideo1_92.txt  \n",
            "  inflating: /content/kalman-filter-in-single-object-tracking/data/labels/testvideo1_93.txt  \n",
            "  inflating: /content/kalman-filter-in-single-object-tracking/data/labels/testvideo1_94.txt  \n",
            "  inflating: /content/kalman-filter-in-single-object-tracking/data/labels/testvideo1_95.txt  \n",
            "  inflating: /content/kalman-filter-in-single-object-tracking/data/labels/testvideo1_96.txt  \n",
            "  inflating: /content/kalman-filter-in-single-object-tracking/data/labels/testvideo1_97.txt  \n",
            "  inflating: /content/kalman-filter-in-single-object-tracking/data/labels/testvideo1_98.txt  \n",
            "  inflating: /content/kalman-filter-in-single-object-tracking/data/labels/testvideo1_99.txt  \n"
          ]
        }
      ]
    },
    {
      "cell_type": "code",
      "source": [
        "################################################################################\n",
        "# INSTALL CONDA ON GOOGLE COLAB\n",
        "################################################################################\n",
        "# ! wget https://repo.anaconda.com/miniconda/Miniconda3-py37_4.8.2-Linux-x86_64.sh\n",
        "# ! chmod +x Miniconda3-py37_4.8.2-Linux-x86_64.sh\n",
        "# ! bash ./Miniconda3-py37_4.8.2-Linux-x86_64.sh -b -f -p /usr/local\n",
        "# import sys\n",
        "# sys.path.append('/usr/local/lib/python3.7/site-packages/')"
      ],
      "metadata": {
        "id": "Xt32fA9Om8w4"
      },
      "execution_count": null,
      "outputs": []
    },
    {
      "cell_type": "code",
      "source": [
        "################################################################################\n",
        "# Installing Requirements\n",
        "################################################################################\n",
        "! pip install -r requirements.txt"
      ],
      "metadata": {
        "colab": {
          "base_uri": "https://localhost:8080/"
        },
        "id": "ptcdLJzJFmY5",
        "outputId": "ac8ad416-3b85-4909-85aa-747da3045aa6"
      },
      "execution_count": 5,
      "outputs": [
        {
          "output_type": "stream",
          "name": "stdout",
          "text": [
            "Collecting filterpy==1.4.5\n",
            "  Downloading filterpy-1.4.5.zip (177 kB)\n",
            "\u001b[K     |████████████████████████████████| 177 kB 5.2 MB/s \n",
            "\u001b[?25hCollecting scikit-image==0.17.2\n",
            "  Downloading scikit_image-0.17.2-cp37-cp37m-manylinux1_x86_64.whl (12.5 MB)\n",
            "\u001b[K     |████████████████████████████████| 12.5 MB 19.2 MB/s \n",
            "\u001b[?25hCollecting lap==0.4.0\n",
            "  Downloading lap-0.4.0.tar.gz (1.5 MB)\n",
            "\u001b[K     |████████████████████████████████| 1.5 MB 42.2 MB/s \n",
            "\u001b[?25hRequirement already satisfied: numpy in /usr/local/lib/python3.7/dist-packages (from filterpy==1.4.5->-r requirements.txt (line 1)) (1.19.5)\n",
            "Requirement already satisfied: scipy in /usr/local/lib/python3.7/dist-packages (from filterpy==1.4.5->-r requirements.txt (line 1)) (1.4.1)\n",
            "Requirement already satisfied: matplotlib in /usr/local/lib/python3.7/dist-packages (from filterpy==1.4.5->-r requirements.txt (line 1)) (3.2.2)\n",
            "Requirement already satisfied: tifffile>=2019.7.26 in /usr/local/lib/python3.7/dist-packages (from scikit-image==0.17.2->-r requirements.txt (line 2)) (2021.11.2)\n",
            "Requirement already satisfied: networkx>=2.0 in /usr/local/lib/python3.7/dist-packages (from scikit-image==0.17.2->-r requirements.txt (line 2)) (2.6.3)\n",
            "Requirement already satisfied: PyWavelets>=1.1.1 in /usr/local/lib/python3.7/dist-packages (from scikit-image==0.17.2->-r requirements.txt (line 2)) (1.2.0)\n",
            "Requirement already satisfied: pillow!=7.1.0,!=7.1.1,>=4.3.0 in /usr/local/lib/python3.7/dist-packages (from scikit-image==0.17.2->-r requirements.txt (line 2)) (7.1.2)\n",
            "Requirement already satisfied: imageio>=2.3.0 in /usr/local/lib/python3.7/dist-packages (from scikit-image==0.17.2->-r requirements.txt (line 2)) (2.4.1)\n",
            "Requirement already satisfied: cycler>=0.10 in /usr/local/lib/python3.7/dist-packages (from matplotlib->filterpy==1.4.5->-r requirements.txt (line 1)) (0.11.0)\n",
            "Requirement already satisfied: pyparsing!=2.0.4,!=2.1.2,!=2.1.6,>=2.0.1 in /usr/local/lib/python3.7/dist-packages (from matplotlib->filterpy==1.4.5->-r requirements.txt (line 1)) (3.0.6)\n",
            "Requirement already satisfied: python-dateutil>=2.1 in /usr/local/lib/python3.7/dist-packages (from matplotlib->filterpy==1.4.5->-r requirements.txt (line 1)) (2.8.2)\n",
            "Requirement already satisfied: kiwisolver>=1.0.1 in /usr/local/lib/python3.7/dist-packages (from matplotlib->filterpy==1.4.5->-r requirements.txt (line 1)) (1.3.2)\n",
            "Requirement already satisfied: six>=1.5 in /usr/local/lib/python3.7/dist-packages (from python-dateutil>=2.1->matplotlib->filterpy==1.4.5->-r requirements.txt (line 1)) (1.15.0)\n",
            "Building wheels for collected packages: filterpy, lap\n",
            "  Building wheel for filterpy (setup.py) ... \u001b[?25l\u001b[?25hdone\n",
            "  Created wheel for filterpy: filename=filterpy-1.4.5-py3-none-any.whl size=110474 sha256=9eb1e06f591328cfa90cc85d25965a2fbc1c24acacd3d5c3a5a47f2fdf994929\n",
            "  Stored in directory: /root/.cache/pip/wheels/ce/e0/ee/a2b3c5caab3418c1ccd8c4de573d4cbe13315d7e8b0a55fbc2\n",
            "  Building wheel for lap (setup.py) ... \u001b[?25l\u001b[?25hdone\n",
            "  Created wheel for lap: filename=lap-0.4.0-cp37-cp37m-linux_x86_64.whl size=1590152 sha256=cbc5ca714cce867bfc4c32406e8059e44903311d7720f99f57dba80d97706e62\n",
            "  Stored in directory: /root/.cache/pip/wheels/b1/0b/e3/ef9daf1b5547b56389e42c80c3100f1e6479bf5fd00fd9d6ba\n",
            "Successfully built filterpy lap\n",
            "Installing collected packages: scikit-image, lap, filterpy\n",
            "  Attempting uninstall: scikit-image\n",
            "    Found existing installation: scikit-image 0.18.3\n",
            "    Uninstalling scikit-image-0.18.3:\n",
            "      Successfully uninstalled scikit-image-0.18.3\n",
            "\u001b[31mERROR: pip's dependency resolver does not currently take into account all the packages that are installed. This behaviour is the source of the following dependency conflicts.\n",
            "albumentations 0.1.12 requires imgaug<0.2.7,>=0.2.5, but you have imgaug 0.2.9 which is incompatible.\u001b[0m\n",
            "Successfully installed filterpy-1.4.5 lap-0.4.0 scikit-image-0.17.2\n"
          ]
        }
      ]
    },
    {
      "cell_type": "code",
      "source": [
        "import os\n",
        "os.environ[\"CUDA_VISIBLE_DEVICES\"] = \"1\""
      ],
      "metadata": {
        "id": "9QkRxUEjj6lI"
      },
      "execution_count": 23,
      "outputs": []
    },
    {
      "cell_type": "code",
      "source": [
        "################################################################################\n",
        "# Demo:\n",
        "# To run the tracker with the provided detections:\n",
        "################################################################################\n",
        "! python main.py"
      ],
      "metadata": {
        "colab": {
          "base_uri": "https://localhost:8080/"
        },
        "id": "oyrZ5tVwgmTp",
        "outputId": "e3af60a7-bc31-401c-d70b-008994968fda"
      },
      "execution_count": 19,
      "outputs": [
        {
          "output_type": "stream",
          "name": "stdout",
          "text": [
            ": cannot connect to X server \n"
          ]
        }
      ]
    },
    {
      "cell_type": "code",
      "source": [
        "! pip install -r requirements.txt\n",
        "! python setup.py build_ext --inplace"
      ],
      "metadata": {
        "colab": {
          "base_uri": "https://localhost:8080/",
          "height": 1000
        },
        "id": "5fDFO6GWFypA",
        "outputId": "29ea3b08-a461-48b9-fb04-b8831cfb0b06"
      },
      "execution_count": null,
      "outputs": [
        {
          "output_type": "stream",
          "name": "stdout",
          "text": [
            "Collecting numpy==1.18.5\n",
            "  Downloading numpy-1.18.5-cp37-cp37m-manylinux1_x86_64.whl (20.1 MB)\n",
            "\u001b[K     |████████████████████████████████| 20.1 MB 1.7 MB/s \n",
            "\u001b[?25hCollecting cython==0.29.23\n",
            "  Downloading Cython-0.29.23-cp37-cp37m-manylinux1_x86_64.whl (2.0 MB)\n",
            "\u001b[K     |████████████████████████████████| 2.0 MB 25.6 MB/s \n",
            "\u001b[?25hCollecting opencv-python==4.3.0.36\n",
            "  Downloading opencv_python-4.3.0.36-cp37-cp37m-manylinux2014_x86_64.whl (43.7 MB)\n",
            "\u001b[K     |████████████████████████████████| 43.7 MB 4.1 MB/s \n",
            "\u001b[?25hCollecting typeguard==2.9.1\n",
            "  Downloading typeguard-2.9.1-py3-none-any.whl (16 kB)\n",
            "Collecting pyyaml==5.3.1\n",
            "  Downloading PyYAML-5.3.1.tar.gz (269 kB)\n",
            "\u001b[K     |████████████████████████████████| 269 kB 47.7 MB/s \n",
            "\u001b[?25hCollecting plyfile==0.7.2\n",
            "  Downloading plyfile-0.7.2-py3-none-any.whl (39 kB)\n",
            "Collecting imgaug==0.4.0\n",
            "  Downloading imgaug-0.4.0-py2.py3-none-any.whl (948 kB)\n",
            "\u001b[K     |████████████████████████████████| 948 kB 44.9 MB/s \n",
            "\u001b[?25hCollecting tqdm==4.48.0\n",
            "  Downloading tqdm-4.48.0-py2.py3-none-any.whl (67 kB)\n",
            "\u001b[K     |████████████████████████████████| 67 kB 5.6 MB/s \n",
            "\u001b[?25hCollecting progressbar2==3.53.1\n",
            "  Downloading progressbar2-3.53.1-py2.py3-none-any.whl (25 kB)\n",
            "Collecting h5py==2.10.0\n",
            "  Downloading h5py-2.10.0-cp37-cp37m-manylinux1_x86_64.whl (2.9 MB)\n",
            "\u001b[K     |████████████████████████████████| 2.9 MB 42.3 MB/s \n",
            "\u001b[?25hCollecting tensorflow-estimator==1.15.1\n",
            "  Downloading tensorflow_estimator-1.15.1-py2.py3-none-any.whl (503 kB)\n",
            "\u001b[K     |████████████████████████████████| 503 kB 47.3 MB/s \n",
            "\u001b[?25hCollecting tensorboard==1.15.0\n",
            "  Downloading tensorboard-1.15.0-py3-none-any.whl (3.8 MB)\n",
            "\u001b[K     |████████████████████████████████| 3.8 MB 40.7 MB/s \n",
            "\u001b[?25hRequirement already satisfied: six in /usr/local/lib/python3.7/dist-packages (from imgaug==0.4.0->-r requirements.txt (line 7)) (1.15.0)\n",
            "Requirement already satisfied: matplotlib in /usr/local/lib/python3.7/dist-packages (from imgaug==0.4.0->-r requirements.txt (line 7)) (3.2.2)\n",
            "Requirement already satisfied: imageio in /usr/local/lib/python3.7/dist-packages (from imgaug==0.4.0->-r requirements.txt (line 7)) (2.4.1)\n",
            "Requirement already satisfied: scikit-image>=0.14.2 in /usr/local/lib/python3.7/dist-packages (from imgaug==0.4.0->-r requirements.txt (line 7)) (0.18.3)\n",
            "Requirement already satisfied: scipy in /usr/local/lib/python3.7/dist-packages (from imgaug==0.4.0->-r requirements.txt (line 7)) (1.4.1)\n",
            "Requirement already satisfied: Pillow in /usr/local/lib/python3.7/dist-packages (from imgaug==0.4.0->-r requirements.txt (line 7)) (7.1.2)\n",
            "Requirement already satisfied: Shapely in /usr/local/lib/python3.7/dist-packages (from imgaug==0.4.0->-r requirements.txt (line 7)) (1.8.0)\n",
            "Requirement already satisfied: python-utils>=2.3.0 in /usr/local/lib/python3.7/dist-packages (from progressbar2==3.53.1->-r requirements.txt (line 9)) (2.5.6)\n",
            "Requirement already satisfied: setuptools>=41.0.0 in /usr/local/lib/python3.7/dist-packages (from tensorboard==1.15.0->-r requirements.txt (line 12)) (57.4.0)\n",
            "Requirement already satisfied: wheel>=0.26 in /usr/local/lib/python3.7/dist-packages (from tensorboard==1.15.0->-r requirements.txt (line 12)) (0.37.0)\n",
            "Requirement already satisfied: werkzeug>=0.11.15 in /usr/local/lib/python3.7/dist-packages (from tensorboard==1.15.0->-r requirements.txt (line 12)) (1.0.1)\n",
            "Requirement already satisfied: markdown>=2.6.8 in /usr/local/lib/python3.7/dist-packages (from tensorboard==1.15.0->-r requirements.txt (line 12)) (3.3.6)\n",
            "Requirement already satisfied: protobuf>=3.6.0 in /usr/local/lib/python3.7/dist-packages (from tensorboard==1.15.0->-r requirements.txt (line 12)) (3.17.3)\n",
            "Requirement already satisfied: absl-py>=0.4 in /usr/local/lib/python3.7/dist-packages (from tensorboard==1.15.0->-r requirements.txt (line 12)) (0.12.0)\n",
            "Requirement already satisfied: grpcio>=1.6.3 in /usr/local/lib/python3.7/dist-packages (from tensorboard==1.15.0->-r requirements.txt (line 12)) (1.42.0)\n",
            "Requirement already satisfied: importlib-metadata>=4.4 in /usr/local/lib/python3.7/dist-packages (from markdown>=2.6.8->tensorboard==1.15.0->-r requirements.txt (line 12)) (4.8.2)\n",
            "Requirement already satisfied: zipp>=0.5 in /usr/local/lib/python3.7/dist-packages (from importlib-metadata>=4.4->markdown>=2.6.8->tensorboard==1.15.0->-r requirements.txt (line 12)) (3.6.0)\n",
            "Requirement already satisfied: typing-extensions>=3.6.4 in /usr/local/lib/python3.7/dist-packages (from importlib-metadata>=4.4->markdown>=2.6.8->tensorboard==1.15.0->-r requirements.txt (line 12)) (3.10.0.2)\n",
            "Requirement already satisfied: tifffile>=2019.7.26 in /usr/local/lib/python3.7/dist-packages (from scikit-image>=0.14.2->imgaug==0.4.0->-r requirements.txt (line 7)) (2021.11.2)\n",
            "Requirement already satisfied: PyWavelets>=1.1.1 in /usr/local/lib/python3.7/dist-packages (from scikit-image>=0.14.2->imgaug==0.4.0->-r requirements.txt (line 7)) (1.2.0)\n",
            "Requirement already satisfied: networkx>=2.0 in /usr/local/lib/python3.7/dist-packages (from scikit-image>=0.14.2->imgaug==0.4.0->-r requirements.txt (line 7)) (2.6.3)\n",
            "Requirement already satisfied: kiwisolver>=1.0.1 in /usr/local/lib/python3.7/dist-packages (from matplotlib->imgaug==0.4.0->-r requirements.txt (line 7)) (1.3.2)\n",
            "Requirement already satisfied: pyparsing!=2.0.4,!=2.1.2,!=2.1.6,>=2.0.1 in /usr/local/lib/python3.7/dist-packages (from matplotlib->imgaug==0.4.0->-r requirements.txt (line 7)) (3.0.6)\n",
            "Requirement already satisfied: python-dateutil>=2.1 in /usr/local/lib/python3.7/dist-packages (from matplotlib->imgaug==0.4.0->-r requirements.txt (line 7)) (2.8.2)\n",
            "Requirement already satisfied: cycler>=0.10 in /usr/local/lib/python3.7/dist-packages (from matplotlib->imgaug==0.4.0->-r requirements.txt (line 7)) (0.11.0)\n",
            "Building wheels for collected packages: pyyaml\n",
            "  Building wheel for pyyaml (setup.py) ... \u001b[?25l\u001b[?25hdone\n",
            "  Created wheel for pyyaml: filename=PyYAML-5.3.1-cp37-cp37m-linux_x86_64.whl size=44635 sha256=d42f8a7d248324f578629784f6bdb9ef4141bdee7ad680030503d1cab5532de5\n",
            "  Stored in directory: /root/.cache/pip/wheels/5e/03/1e/e1e954795d6f35dfc7b637fe2277bff021303bd9570ecea653\n",
            "Successfully built pyyaml\n",
            "Installing collected packages: numpy, opencv-python, typeguard, tqdm, tensorflow-estimator, tensorboard, pyyaml, progressbar2, plyfile, imgaug, h5py, cython\n",
            "  Attempting uninstall: numpy\n",
            "    Found existing installation: numpy 1.19.5\n",
            "    Uninstalling numpy-1.19.5:\n",
            "      Successfully uninstalled numpy-1.19.5\n",
            "  Attempting uninstall: opencv-python\n",
            "    Found existing installation: opencv-python 4.1.2.30\n",
            "    Uninstalling opencv-python-4.1.2.30:\n",
            "      Successfully uninstalled opencv-python-4.1.2.30\n",
            "  Attempting uninstall: typeguard\n",
            "    Found existing installation: typeguard 2.7.1\n",
            "    Uninstalling typeguard-2.7.1:\n",
            "      Successfully uninstalled typeguard-2.7.1\n",
            "  Attempting uninstall: tqdm\n",
            "    Found existing installation: tqdm 4.62.3\n",
            "    Uninstalling tqdm-4.62.3:\n",
            "      Successfully uninstalled tqdm-4.62.3\n",
            "  Attempting uninstall: tensorflow-estimator\n",
            "    Found existing installation: tensorflow-estimator 2.7.0\n",
            "    Uninstalling tensorflow-estimator-2.7.0:\n",
            "      Successfully uninstalled tensorflow-estimator-2.7.0\n",
            "  Attempting uninstall: tensorboard\n",
            "    Found existing installation: tensorboard 2.7.0\n",
            "    Uninstalling tensorboard-2.7.0:\n",
            "      Successfully uninstalled tensorboard-2.7.0\n",
            "  Attempting uninstall: pyyaml\n",
            "    Found existing installation: PyYAML 3.13\n",
            "    Uninstalling PyYAML-3.13:\n",
            "      Successfully uninstalled PyYAML-3.13\n",
            "  Attempting uninstall: progressbar2\n",
            "    Found existing installation: progressbar2 3.38.0\n",
            "    Uninstalling progressbar2-3.38.0:\n",
            "      Successfully uninstalled progressbar2-3.38.0\n",
            "  Attempting uninstall: imgaug\n",
            "    Found existing installation: imgaug 0.2.9\n",
            "    Uninstalling imgaug-0.2.9:\n",
            "      Successfully uninstalled imgaug-0.2.9\n",
            "  Attempting uninstall: h5py\n",
            "    Found existing installation: h5py 3.1.0\n",
            "    Uninstalling h5py-3.1.0:\n",
            "      Successfully uninstalled h5py-3.1.0\n",
            "  Attempting uninstall: cython\n",
            "    Found existing installation: Cython 0.29.24\n",
            "    Uninstalling Cython-0.29.24:\n",
            "      Successfully uninstalled Cython-0.29.24\n",
            "\u001b[31mERROR: pip's dependency resolver does not currently take into account all the packages that are installed. This behaviour is the source of the following dependency conflicts.\n",
            "tensorflow 2.7.0 requires tensorboard~=2.6, but you have tensorboard 1.15.0 which is incompatible.\n",
            "tensorflow 2.7.0 requires tensorflow-estimator<2.8,~=2.7.0rc0, but you have tensorflow-estimator 1.15.1 which is incompatible.\n",
            "datascience 0.10.6 requires folium==0.2.1, but you have folium 0.8.3 which is incompatible.\n",
            "albumentations 0.1.12 requires imgaug<0.2.7,>=0.2.5, but you have imgaug 0.4.0 which is incompatible.\u001b[0m\n",
            "Successfully installed cython-0.29.23 h5py-2.10.0 imgaug-0.4.0 numpy-1.18.5 opencv-python-4.3.0.36 plyfile-0.7.2 progressbar2-3.53.1 pyyaml-5.3.1 tensorboard-1.15.0 tensorflow-estimator-1.15.1 tqdm-4.48.0 typeguard-2.9.1\n"
          ]
        },
        {
          "output_type": "display_data",
          "data": {
            "application/vnd.colab-display-data+json": {
              "pip_warning": {
                "packages": [
                  "numpy"
                ]
              }
            }
          },
          "metadata": {}
        },
        {
          "output_type": "stream",
          "name": "stdout",
          "text": [
            "Compiling utils/compute_overlap.pyx because it changed.\n",
            "[1/1] Cythonizing utils/compute_overlap.pyx\n",
            "/usr/local/lib/python3.7/dist-packages/Cython/Compiler/Main.py:369: FutureWarning: Cython directive 'language_level' not set, using 2 for now (Py2). This will change in a later release! File: /content/EfficientPose/utils/compute_overlap.pyx\n",
            "  tree = Parsing.p_module(s, pxd, full_module_name)\n",
            "running build_ext\n",
            "building 'utils.compute_overlap' extension\n",
            "creating build\n",
            "creating build/temp.linux-x86_64-3.7\n",
            "creating build/temp.linux-x86_64-3.7/utils\n",
            "x86_64-linux-gnu-gcc -pthread -Wno-unused-result -Wsign-compare -DNDEBUG -g -fwrapv -O2 -Wall -g -fdebug-prefix-map=/build/python3.7-Y7dWVB/python3.7-3.7.12=. -fstack-protector-strong -Wformat -Werror=format-security -g -fdebug-prefix-map=/build/python3.7-Y7dWVB/python3.7-3.7.12=. -fstack-protector-strong -Wformat -Werror=format-security -Wdate-time -D_FORTIFY_SOURCE=2 -fPIC -Iutils -I/usr/local/lib/python3.7/dist-packages/numpy/core/include -I/usr/include/python3.7m -c utils/compute_overlap.c -o build/temp.linux-x86_64-3.7/utils/compute_overlap.o\n",
            "In file included from \u001b[01m\u001b[K/usr/local/lib/python3.7/dist-packages/numpy/core/include/numpy/ndarraytypes.h:1832:0\u001b[m\u001b[K,\n",
            "                 from \u001b[01m\u001b[K/usr/local/lib/python3.7/dist-packages/numpy/core/include/numpy/ndarrayobject.h:12\u001b[m\u001b[K,\n",
            "                 from \u001b[01m\u001b[K/usr/local/lib/python3.7/dist-packages/numpy/core/include/numpy/arrayobject.h:4\u001b[m\u001b[K,\n",
            "                 from \u001b[01m\u001b[Kutils/compute_overlap.c:630\u001b[m\u001b[K:\n",
            "\u001b[01m\u001b[K/usr/local/lib/python3.7/dist-packages/numpy/core/include/numpy/npy_1_7_deprecated_api.h:17:2:\u001b[m\u001b[K \u001b[01;35m\u001b[Kwarning: \u001b[m\u001b[K#warning \"Using deprecated NumPy API, disable it with \" \"#define NPY_NO_DEPRECATED_API NPY_1_7_API_VERSION\" [\u001b[01;35m\u001b[K-Wcpp\u001b[m\u001b[K]\n",
            " #\u001b[01;35m\u001b[Kwarning\u001b[m\u001b[K \"Using deprecated NumPy API, disable it with \" \\\n",
            "  \u001b[01;35m\u001b[K^~~~~~~\u001b[m\u001b[K\n",
            "\u001b[01m\u001b[Kutils/compute_overlap.c:\u001b[m\u001b[K In function ‘\u001b[01m\u001b[K__pyx_pf_5utils_15compute_overlap_2calc_min_distance_between_all_point_pairs\u001b[m\u001b[K’:\n",
            "\u001b[01m\u001b[Kutils/compute_overlap.c:2932:35:\u001b[m\u001b[K \u001b[01;35m\u001b[Kwarning: \u001b[m\u001b[Kcomparison between signed and unsigned integer expressions [\u001b[01;35m\u001b[K-Wsign-compare\u001b[m\u001b[K]\n",
            "   for (__pyx_t_11 = 0; __pyx_t_11 \u001b[01;35m\u001b[K<\u001b[m\u001b[K __pyx_t_10; __pyx_t_11+=1) {\n",
            "                                   \u001b[01;35m\u001b[K^\u001b[m\u001b[K\n",
            "x86_64-linux-gnu-gcc -pthread -shared -Wl,-O1 -Wl,-Bsymbolic-functions -Wl,-Bsymbolic-functions -Wl,-z,relro -Wl,-Bsymbolic-functions -Wl,-z,relro -g -fdebug-prefix-map=/build/python3.7-Y7dWVB/python3.7-3.7.12=. -fstack-protector-strong -Wformat -Werror=format-security -Wdate-time -D_FORTIFY_SOURCE=2 build/temp.linux-x86_64-3.7/utils/compute_overlap.o -o /content/EfficientPose/utils/compute_overlap.cpython-37m-x86_64-linux-gnu.so\n"
          ]
        }
      ]
    },
    {
      "cell_type": "code",
      "source": [
        "################################################################################\n",
        "# Unzipping the Occlusion Datasets in the required directory\n",
        "################################################################################\n",
        "!unzip \"/content/drive/path/input_file_name.zip\" -d \"/content/drive/path/output_folder/\""
      ],
      "metadata": {
        "id": "s_DE4XpgP5yX",
        "colab": {
          "base_uri": "https://localhost:8080/"
        },
        "outputId": "5353a62a-279e-4de8-b127-ae6d8b40048c"
      },
      "execution_count": null,
      "outputs": [
        {
          "output_type": "stream",
          "name": "stdout",
          "text": [
            "unzip:  cannot find or open /content/drive/path/input_file_name.zip, /content/drive/path/input_file_name.zip.zip or /content/drive/path/input_file_name.zip.ZIP.\n"
          ]
        }
      ]
    },
    {
      "cell_type": "code",
      "source": [
        "################################################################################\n",
        "# Run this script only if you didn't dowload the pretrained datasets\n",
        "################################################################################\n",
        "! python generate_masks.py"
      ],
      "metadata": {
        "colab": {
          "base_uri": "https://localhost:8080/"
        },
        "id": "eCCqMYWqWCCt",
        "outputId": "4166afd5-ae3f-4939-a0ad-e6a05d72de35"
      },
      "execution_count": null,
      "outputs": [
        {
          "output_type": "stream",
          "name": "stdout",
          "text": [
            "Traceback (most recent call last):\n",
            "  File \"generate_masks.py\", line 40, in <module>\n",
            "    file_list = [(filename, int(filename.replace(\".png\", \"\"))) for filename in os.listdir(os.path.join(masks_path, \"ape\")) if \".png\" in filename]\n",
            "FileNotFoundError: [Errno 2] No such file or directory: './masks/ape'\n"
          ]
        }
      ]
    },
    {
      "cell_type": "code",
      "source": [
        "################################################################################\n",
        "# Training\n",
        "################################################################################\n",
        "! python train.py --phi 0 --weights /path_to_weights/file.h5 linemod /path_to_dataset/Linemod_preprocessed/ --object-id 8"
      ],
      "metadata": {
        "colab": {
          "base_uri": "https://localhost:8080/"
        },
        "id": "WSD_gY7Edpji",
        "outputId": "6387d633-dd7e-4d65-9799-c9960cace0a3"
      },
      "execution_count": null,
      "outputs": [
        {
          "output_type": "stream",
          "name": "stdout",
          "text": [
            "Traceback (most recent call last):\n",
            "  File \"train.py\", line 49, in <module>\n",
            "    from model import build_EfficientPose\n",
            "  File \"/content/EfficientPose/model.py\", line 47, in <module>\n",
            "    from tfkeras import EfficientNetB0, EfficientNetB1, EfficientNetB2, EfficientNetB3, EfficientNetB4, EfficientNetB5, EfficientNetB6\n",
            "  File \"/content/EfficientPose/tfkeras.py\", line 6, in <module>\n",
            "    import efficientnet as model\n",
            "  File \"/content/EfficientPose/efficientnet.py\", line 39, in <module>\n",
            "    from keras_applications.imagenet_utils import _obtain_input_shape\n",
            "ModuleNotFoundError: No module named 'keras_applications'\n"
          ]
        }
      ]
    },
    {
      "cell_type": "code",
      "source": [
        "################################################################################\n",
        "# Training the\n",
        "################################################################################\n",
        "! python train.py --phi 0 --weights /path_to_weights/file.h5 occlusion /path_to_dataset/Linemod_preprocessed/"
      ],
      "metadata": {
        "colab": {
          "base_uri": "https://localhost:8080/"
        },
        "id": "tXmjM2Blf8Ba",
        "outputId": "18b56513-ab8a-49a0-b380-2b9126b76cb2"
      },
      "execution_count": null,
      "outputs": [
        {
          "output_type": "stream",
          "name": "stdout",
          "text": [
            "Traceback (most recent call last):\n",
            "  File \"train.py\", line 49, in <module>\n",
            "    from model import build_EfficientPose\n",
            "  File \"/content/EfficientPose/model.py\", line 47, in <module>\n",
            "    from tfkeras import EfficientNetB0, EfficientNetB1, EfficientNetB2, EfficientNetB3, EfficientNetB4, EfficientNetB5, EfficientNetB6\n",
            "  File \"/content/EfficientPose/tfkeras.py\", line 6, in <module>\n",
            "    import efficientnet as model\n",
            "  File \"/content/EfficientPose/efficientnet.py\", line 39, in <module>\n",
            "    from keras_applications.imagenet_utils import _obtain_input_shape\n",
            "ModuleNotFoundError: No module named 'keras_applications'\n"
          ]
        }
      ]
    },
    {
      "cell_type": "code",
      "source": [
        "! pip install keras_applications"
      ],
      "metadata": {
        "colab": {
          "base_uri": "https://localhost:8080/"
        },
        "id": "5mxtfIUcyCfL",
        "outputId": "3c82e677-170c-4e94-c309-ac6e2cc374ab"
      },
      "execution_count": null,
      "outputs": [
        {
          "output_type": "stream",
          "name": "stdout",
          "text": [
            "Collecting keras_applications\n",
            "  Downloading Keras_Applications-1.0.8-py3-none-any.whl (50 kB)\n",
            "\u001b[?25l\r\u001b[K     |██████▌                         | 10 kB 22.5 MB/s eta 0:00:01\r\u001b[K     |█████████████                   | 20 kB 18.2 MB/s eta 0:00:01\r\u001b[K     |███████████████████▍            | 30 kB 10.0 MB/s eta 0:00:01\r\u001b[K     |█████████████████████████▉      | 40 kB 8.2 MB/s eta 0:00:01\r\u001b[K     |████████████████████████████████| 50 kB 3.0 MB/s \n",
            "\u001b[?25hRequirement already satisfied: numpy>=1.9.1 in /usr/local/lib/python3.7/dist-packages (from keras_applications) (1.18.5)\n",
            "Requirement already satisfied: h5py in /usr/local/lib/python3.7/dist-packages (from keras_applications) (2.10.0)\n",
            "Requirement already satisfied: six in /usr/local/lib/python3.7/dist-packages (from h5py->keras_applications) (1.15.0)\n",
            "Installing collected packages: keras-applications\n",
            "Successfully installed keras-applications-1.0.8\n"
          ]
        }
      ]
    },
    {
      "cell_type": "code",
      "source": [
        "! pip install tensorflow==1.15"
      ],
      "metadata": {
        "colab": {
          "base_uri": "https://localhost:8080/"
        },
        "id": "kT1MAasPyNV8",
        "outputId": "ddc42bc0-7532-474d-aa93-e2c0124087a8"
      },
      "execution_count": null,
      "outputs": [
        {
          "output_type": "stream",
          "name": "stdout",
          "text": [
            "Collecting tensorflow==1.15\n",
            "  Downloading tensorflow-1.15.0-cp37-cp37m-manylinux2010_x86_64.whl (412.3 MB)\n",
            "\u001b[K     |████████████████████████████████| 412.3 MB 28 kB/s \n",
            "\u001b[?25hCollecting tensorboard<1.16.0,>=1.15.0\n",
            "  Using cached tensorboard-1.15.0-py3-none-any.whl (3.8 MB)\n",
            "Collecting tensorflow-estimator==1.15.1\n",
            "  Using cached tensorflow_estimator-1.15.1-py2.py3-none-any.whl (503 kB)\n",
            "Requirement already satisfied: google-pasta>=0.1.6 in /usr/local/lib/python3.7/dist-packages (from tensorflow==1.15) (0.2.0)\n",
            "Requirement already satisfied: absl-py>=0.7.0 in /usr/local/lib/python3.7/dist-packages (from tensorflow==1.15) (0.12.0)\n",
            "Requirement already satisfied: astor>=0.6.0 in /usr/local/lib/python3.7/dist-packages (from tensorflow==1.15) (0.8.1)\n",
            "Requirement already satisfied: wrapt>=1.11.1 in /usr/local/lib/python3.7/dist-packages (from tensorflow==1.15) (1.13.3)\n",
            "Requirement already satisfied: termcolor>=1.1.0 in /usr/local/lib/python3.7/dist-packages (from tensorflow==1.15) (1.1.0)\n",
            "Requirement already satisfied: keras-applications>=1.0.8 in /usr/local/lib/python3.7/dist-packages (from tensorflow==1.15) (1.0.8)\n",
            "Requirement already satisfied: grpcio>=1.8.6 in /usr/local/lib/python3.7/dist-packages (from tensorflow==1.15) (1.42.0)\n",
            "Requirement already satisfied: wheel>=0.26 in /usr/local/lib/python3.7/dist-packages (from tensorflow==1.15) (0.37.0)\n",
            "Requirement already satisfied: numpy<2.0,>=1.16.0 in /usr/local/lib/python3.7/dist-packages (from tensorflow==1.15) (1.18.5)\n",
            "Collecting gast==0.2.2\n",
            "  Downloading gast-0.2.2.tar.gz (10 kB)\n",
            "Requirement already satisfied: protobuf>=3.6.1 in /usr/local/lib/python3.7/dist-packages (from tensorflow==1.15) (3.17.3)\n",
            "Requirement already satisfied: six>=1.10.0 in /usr/local/lib/python3.7/dist-packages (from tensorflow==1.15) (1.15.0)\n",
            "Requirement already satisfied: keras-preprocessing>=1.0.5 in /usr/local/lib/python3.7/dist-packages (from tensorflow==1.15) (1.1.2)\n",
            "Requirement already satisfied: opt-einsum>=2.3.2 in /usr/local/lib/python3.7/dist-packages (from tensorflow==1.15) (3.3.0)\n",
            "Requirement already satisfied: h5py in /usr/local/lib/python3.7/dist-packages (from keras-applications>=1.0.8->tensorflow==1.15) (2.10.0)\n",
            "Requirement already satisfied: setuptools>=41.0.0 in /usr/local/lib/python3.7/dist-packages (from tensorboard<1.16.0,>=1.15.0->tensorflow==1.15) (57.4.0)\n",
            "Requirement already satisfied: werkzeug>=0.11.15 in /usr/local/lib/python3.7/dist-packages (from tensorboard<1.16.0,>=1.15.0->tensorflow==1.15) (1.0.1)\n",
            "Requirement already satisfied: markdown>=2.6.8 in /usr/local/lib/python3.7/dist-packages (from tensorboard<1.16.0,>=1.15.0->tensorflow==1.15) (3.3.6)\n",
            "Requirement already satisfied: importlib-metadata>=4.4 in /usr/local/lib/python3.7/dist-packages (from markdown>=2.6.8->tensorboard<1.16.0,>=1.15.0->tensorflow==1.15) (4.8.2)\n",
            "Requirement already satisfied: zipp>=0.5 in /usr/local/lib/python3.7/dist-packages (from importlib-metadata>=4.4->markdown>=2.6.8->tensorboard<1.16.0,>=1.15.0->tensorflow==1.15) (3.6.0)\n",
            "Requirement already satisfied: typing-extensions>=3.6.4 in /usr/local/lib/python3.7/dist-packages (from importlib-metadata>=4.4->markdown>=2.6.8->tensorboard<1.16.0,>=1.15.0->tensorflow==1.15) (3.10.0.2)\n",
            "Building wheels for collected packages: gast\n",
            "  Building wheel for gast (setup.py) ... \u001b[?25l\u001b[?25hdone\n",
            "  Created wheel for gast: filename=gast-0.2.2-py3-none-any.whl size=7554 sha256=0d738cf1b19a490328353764ba04c9017f8ab694df4a2887701658dea834eca5\n",
            "  Stored in directory: /root/.cache/pip/wheels/21/7f/02/420f32a803f7d0967b48dd823da3f558c5166991bfd204eef3\n",
            "Successfully built gast\n",
            "Installing collected packages: tensorflow-estimator, tensorboard, gast, tensorflow\n",
            "  Attempting uninstall: tensorflow-estimator\n",
            "    Found existing installation: tensorflow-estimator 2.7.0\n",
            "    Uninstalling tensorflow-estimator-2.7.0:\n",
            "      Successfully uninstalled tensorflow-estimator-2.7.0\n",
            "  Attempting uninstall: tensorboard\n",
            "    Found existing installation: tensorboard 2.7.0\n",
            "    Uninstalling tensorboard-2.7.0:\n",
            "      Successfully uninstalled tensorboard-2.7.0\n",
            "  Attempting uninstall: gast\n",
            "    Found existing installation: gast 0.4.0\n",
            "    Uninstalling gast-0.4.0:\n",
            "      Successfully uninstalled gast-0.4.0\n",
            "  Attempting uninstall: tensorflow\n",
            "    Found existing installation: tensorflow 2.7.0\n",
            "    Uninstalling tensorflow-2.7.0:\n",
            "      Successfully uninstalled tensorflow-2.7.0\n",
            "\u001b[31mERROR: pip's dependency resolver does not currently take into account all the packages that are installed. This behaviour is the source of the following dependency conflicts.\n",
            "tensorflow-probability 0.15.0 requires gast>=0.3.2, but you have gast 0.2.2 which is incompatible.\n",
            "kapre 0.3.6 requires tensorflow>=2.0.0, but you have tensorflow 1.15.0 which is incompatible.\u001b[0m\n",
            "Successfully installed gast-0.2.2 tensorboard-1.15.0 tensorflow-1.15.0 tensorflow-estimator-1.15.1\n"
          ]
        }
      ]
    },
    {
      "cell_type": "code",
      "source": [
        "################################################################################\n",
        "# Evaluating the\n",
        "################################################################################\n",
        "! python evaluate.py --phi 0 --weights /path_to_weights/file.h5 --validation-image-save-path /where_to_save_predicted_images/ linemod /path_to_dataset/Linemod_preprocessed/ --object-id 8"
      ],
      "metadata": {
        "colab": {
          "base_uri": "https://localhost:8080/"
        },
        "id": "wb-N_lUklVDR",
        "outputId": "2c3a1618-deb4-4ad0-edf3-4f2b0f44742f"
      },
      "execution_count": null,
      "outputs": [
        {
          "output_type": "stream",
          "name": "stdout",
          "text": [
            "WARNING:tensorflow:From evaluate.py:132: The name tf.ConfigProto is deprecated. Please use tf.compat.v1.ConfigProto instead.\n",
            "\n",
            "WARNING:tensorflow:From evaluate.py:134: The name tf.Session is deprecated. Please use tf.compat.v1.Session instead.\n",
            "\n",
            "2021-12-29 10:47:29.951985: I tensorflow/core/platform/cpu_feature_guard.cc:142] Your CPU supports instructions that this TensorFlow binary was not compiled to use: AVX2 FMA\n",
            "2021-12-29 10:47:29.957060: I tensorflow/core/platform/profile_utils/cpu_utils.cc:94] CPU Frequency: 2299995000 Hz\n",
            "2021-12-29 10:47:29.957336: I tensorflow/compiler/xla/service/service.cc:168] XLA service 0x5617a6f7ebc0 initialized for platform Host (this does not guarantee that XLA will be used). Devices:\n",
            "2021-12-29 10:47:29.957382: I tensorflow/compiler/xla/service/service.cc:176]   StreamExecutor device (0): Host, Default Version\n",
            "2021-12-29 10:47:29.960912: I tensorflow/stream_executor/platform/default/dso_loader.cc:44] Successfully opened dynamic library libcuda.so.1\n",
            "2021-12-29 10:47:30.139937: I tensorflow/stream_executor/cuda/cuda_gpu_executor.cc:983] successful NUMA node read from SysFS had negative value (-1), but there must be at least one NUMA node, so returning NUMA node zero\n",
            "2021-12-29 10:47:30.140915: I tensorflow/compiler/xla/service/service.cc:168] XLA service 0x5617a6f7f100 initialized for platform CUDA (this does not guarantee that XLA will be used). Devices:\n",
            "2021-12-29 10:47:30.140950: I tensorflow/compiler/xla/service/service.cc:176]   StreamExecutor device (0): Tesla K80, Compute Capability 3.7\n",
            "2021-12-29 10:47:30.142039: I tensorflow/stream_executor/cuda/cuda_gpu_executor.cc:983] successful NUMA node read from SysFS had negative value (-1), but there must be at least one NUMA node, so returning NUMA node zero\n",
            "2021-12-29 10:47:30.142844: I tensorflow/core/common_runtime/gpu/gpu_device.cc:1618] Found device 0 with properties: \n",
            "name: Tesla K80 major: 3 minor: 7 memoryClockRate(GHz): 0.8235\n",
            "pciBusID: 0000:00:04.0\n",
            "2021-12-29 10:47:30.194626: I tensorflow/stream_executor/platform/default/dso_loader.cc:44] Successfully opened dynamic library libcudart.so.10.0\n",
            "2021-12-29 10:47:30.414049: I tensorflow/stream_executor/platform/default/dso_loader.cc:44] Successfully opened dynamic library libcublas.so.10.0\n",
            "2021-12-29 10:47:30.487025: I tensorflow/stream_executor/platform/default/dso_loader.cc:44] Successfully opened dynamic library libcufft.so.10.0\n",
            "2021-12-29 10:47:30.509424: I tensorflow/stream_executor/platform/default/dso_loader.cc:44] Successfully opened dynamic library libcurand.so.10.0\n",
            "2021-12-29 10:47:30.693110: I tensorflow/stream_executor/platform/default/dso_loader.cc:44] Successfully opened dynamic library libcusolver.so.10.0\n",
            "2021-12-29 10:47:30.785079: I tensorflow/stream_executor/platform/default/dso_loader.cc:44] Successfully opened dynamic library libcusparse.so.10.0\n",
            "2021-12-29 10:47:31.137242: I tensorflow/stream_executor/platform/default/dso_loader.cc:44] Successfully opened dynamic library libcudnn.so.7\n",
            "2021-12-29 10:47:31.137426: I tensorflow/stream_executor/cuda/cuda_gpu_executor.cc:983] successful NUMA node read from SysFS had negative value (-1), but there must be at least one NUMA node, so returning NUMA node zero\n",
            "2021-12-29 10:47:31.138441: I tensorflow/stream_executor/cuda/cuda_gpu_executor.cc:983] successful NUMA node read from SysFS had negative value (-1), but there must be at least one NUMA node, so returning NUMA node zero\n",
            "2021-12-29 10:47:31.139219: I tensorflow/core/common_runtime/gpu/gpu_device.cc:1746] Adding visible gpu devices: 0\n",
            "2021-12-29 10:47:31.139357: I tensorflow/stream_executor/platform/default/dso_loader.cc:44] Successfully opened dynamic library libcudart.so.10.0\n",
            "2021-12-29 10:47:31.141145: I tensorflow/core/common_runtime/gpu/gpu_device.cc:1159] Device interconnect StreamExecutor with strength 1 edge matrix:\n",
            "2021-12-29 10:47:31.141180: I tensorflow/core/common_runtime/gpu/gpu_device.cc:1165]      0 \n",
            "2021-12-29 10:47:31.141211: I tensorflow/core/common_runtime/gpu/gpu_device.cc:1178] 0:   N \n",
            "2021-12-29 10:47:31.141394: I tensorflow/stream_executor/cuda/cuda_gpu_executor.cc:983] successful NUMA node read from SysFS had negative value (-1), but there must be at least one NUMA node, so returning NUMA node zero\n",
            "2021-12-29 10:47:31.142238: I tensorflow/stream_executor/cuda/cuda_gpu_executor.cc:983] successful NUMA node read from SysFS had negative value (-1), but there must be at least one NUMA node, so returning NUMA node zero\n",
            "2021-12-29 10:47:31.142969: I tensorflow/core/common_runtime/gpu/gpu_device.cc:1304] Created TensorFlow device (/job:localhost/replica:0/task:0/device:GPU:0 with 10813 MB memory) -> physical GPU (device: 0, name: Tesla K80, pci bus id: 0000:00:04.0, compute capability: 3.7)\n",
            "{'dataset_type': 'linemod', 'rotation_representation': 'axis_angle', 'weights': '/path_to_weights/file.h5', 'batch_size': 1, 'phi': 0, 'gpu': None, 'score_threshold': 0.5, 'validation_image_save_path': '/where_to_save_predicted_images/', 'linemod_path': '/path_to_dataset/Linemod_preprocessed/', 'object_id': 8}\n",
            "\n",
            "Creating the Generators...\n",
            "Error: path /path_to_dataset/Linemod_preprocessed/ does not exist!\n",
            "Done!\n",
            "Traceback (most recent call last):\n",
            "  File \"evaluate.py\", line 368, in <module>\n",
            "    main()\n",
            "  File \"evaluate.py\", line 103, in main\n",
            "    num_classes = generator.num_classes()\n",
            "  File \"/content/EfficientPose/generators/linemod.py\", line 525, in num_classes\n",
            "    return len(self.class_to_name)\n",
            "AttributeError: 'LineModGenerator' object has no attribute 'class_to_name'\n"
          ]
        }
      ]
    }
  ]
}